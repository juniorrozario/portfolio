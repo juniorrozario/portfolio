{
 "cells": [
  {
   "attachments": {},
   "cell_type": "markdown",
   "metadata": {},
   "source": [
    "## Toronto Real Estate Statistics Webscrape"
   ]
  },
  {
   "cell_type": "code",
   "execution_count": 73,
   "metadata": {},
   "outputs": [],
   "source": [
    "# imports\n",
    "\n",
    "import pandas as pd"
   ]
  },
  {
   "cell_type": "code",
   "execution_count": 78,
   "metadata": {},
   "outputs": [],
   "source": [
    "# scrape tabular data as dataframe\n",
    "\n",
    "dfs = pd.read_html('https://toronto.listing.ca/real-estate-price-history.htm')\n",
    "\n",
    "df1 = pd.DataFrame(dfs[1])\n",
    "df2 = pd.DataFrame(dfs[2])\n",
    "df3 = pd.DataFrame(dfs[3])\n",
    "df4 = pd.DataFrame(dfs[4])\n",
    "df5 = pd.DataFrame(dfs[5])\n",
    "df6 = pd.DataFrame(dfs[6])\n",
    "df7 = pd.DataFrame(dfs[7])\n",
    "df8 = pd.DataFrame(dfs[8])\n",
    "df9 = pd.DataFrame(dfs[9])\n",
    "df10 = pd.DataFrame(dfs[10])\n",
    "df11 = pd.DataFrame(dfs[11])"
   ]
  },
  {
   "cell_type": "code",
   "execution_count": 82,
   "metadata": {},
   "outputs": [
    {
     "name": "stdout",
     "output_type": "stream",
     "text": [
      "Dataframes saved as CSV files.\n"
     ]
    }
   ],
   "source": [
    "dataframes = {'torontosales_2022':df1, 'torontosales_2021':df2, \n",
    "              'torontosales_2020':df3, 'torontosales_2019':df4,\n",
    "              'torontosales_2018':df5, 'torontosales_2017':df6, \n",
    "              'torontosales_2016':df7, 'torontosales_2015':df8,\n",
    "              'torontosales_2014':df9, 'torontosales_2013':df10, \n",
    "              'torontosales_2012':df11}\n",
    "\n",
    "# save data as csv\n",
    "\n",
    "for name, df in dataframes.items():\n",
    "    df.to_csv(f'{name}.csv', index=False)\n",
    "\n",
    "print(\"Dataframes saved as CSV files.\")"
   ]
  }
 ],
 "metadata": {
  "kernelspec": {
   "display_name": "Python 3",
   "language": "python",
   "name": "python3"
  },
  "language_info": {
   "codemirror_mode": {
    "name": "ipython",
    "version": 3
   },
   "file_extension": ".py",
   "mimetype": "text/x-python",
   "name": "python",
   "nbconvert_exporter": "python",
   "pygments_lexer": "ipython3",
   "version": "3.10.9"
  },
  "orig_nbformat": 4,
  "vscode": {
   "interpreter": {
    "hash": "6233e7a555b107dbfae6b0cbc3aef6b8cbed7e343abb167f71a590153a3fb7bc"
   }
  }
 },
 "nbformat": 4,
 "nbformat_minor": 2
}
